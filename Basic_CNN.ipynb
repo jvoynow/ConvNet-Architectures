{
  "nbformat": 4,
  "nbformat_minor": 0,
  "metadata": {
    "kernelspec": {
      "display_name": "Python 3",
      "language": "python",
      "name": "python3"
    },
    "language_info": {
      "codemirror_mode": {
        "name": "ipython",
        "version": 3
      },
      "file_extension": ".py",
      "mimetype": "text/x-python",
      "name": "python",
      "nbconvert_exporter": "python",
      "pygments_lexer": "ipython3",
      "version": "3.7.3"
    },
    "colab": {
      "name": "Fun with CIFAR100 .ipynb",
      "provenance": [],
      "collapsed_sections": []
    },
    "accelerator": "GPU"
  },
  "cells": [
    {
      "cell_type": "code",
      "metadata": {
        "id": "-Adu71FcCpSb",
        "colab_type": "code",
        "colab": {
          "base_uri": "https://localhost:8080/",
          "height": 33
        },
        "outputId": "90441c98-8d1d-40bf-87d5-bc61230a0883"
      },
      "source": [
        "import matplotlib.pyplot as plt\n",
        "import numpy as np\n",
        "\n",
        "from keras.datasets import cifar100\n",
        "from keras.utils import to_categorical\n",
        "\n",
        "from keras.models import Sequential, Model\n",
        "from keras.layers import Conv2D, MaxPooling2D, Dense, Dropout, Flatten, BatchNormalization, Input, Add, ZeroPadding2D, AveragePooling2D, Activation\n",
        "from keras.preprocessing import image\n",
        "from keras.optimizers import adam\n",
        "from keras.regularizers import l2"
      ],
      "execution_count": 1,
      "outputs": [
        {
          "output_type": "stream",
          "text": [
            "Using TensorFlow backend.\n"
          ],
          "name": "stderr"
        }
      ]
    },
    {
      "cell_type": "code",
      "metadata": {
        "id": "sZwzOd1MYO6-",
        "colab_type": "code",
        "colab": {
          "base_uri": "https://localhost:8080/",
          "height": 50
        },
        "outputId": "29692d1c-b0cf-44d8-c30c-cb643463280e"
      },
      "source": [
        "(x_train, y_train), (x_test, y_test) = cifar100.load_data()\n",
        "\n",
        "y_train = to_categorical(y_train)\n",
        "y_test = to_categorical(y_test)"
      ],
      "execution_count": 2,
      "outputs": [
        {
          "output_type": "stream",
          "text": [
            "Downloading data from https://www.cs.toronto.edu/~kriz/cifar-100-python.tar.gz\n",
            "169009152/169001437 [==============================] - 2s 0us/step\n"
          ],
          "name": "stdout"
        }
      ]
    },
    {
      "cell_type": "code",
      "metadata": {
        "id": "7K9eFJWdCpS-",
        "colab_type": "code",
        "colab": {}
      },
      "source": [
        "model = Sequential()\n",
        "\n",
        "model.add(Conv2D(32, kernel_size=3, padding='same', activation='relu', input_shape=(32,32,3)))\n",
        "model.add(Conv2D(32, kernel_size=3, padding='same', activation='relu'))\n",
        "model.add(MaxPooling2D((2, 2)))\n",
        "model.add(BatchNormalization())\n",
        "model.add(Dropout(0.3))\n",
        "\n",
        "model.add(Conv2D(64, kernel_size=3, padding='same', activation='relu'))\n",
        "model.add(Conv2D(64, kernel_size=3, padding='same', activation='relu'))\n",
        "model.add(MaxPooling2D((2, 2)))\n",
        "model.add(BatchNormalization())\n",
        "model.add(Dropout(0.3))\n",
        "\n",
        "model.add(Conv2D(128, kernel_size=3, padding='same', activation='relu'))\n",
        "model.add(Conv2D(128, kernel_size=3, padding='same', activation='relu'))\n",
        "model.add(MaxPooling2D((2, 2)))\n",
        "model.add(BatchNormalization())\n",
        "model.add(Dropout(0.3))\n",
        "\n",
        "model.add(Conv2D(128, kernel_size=3, padding='same', activation='relu'))\n",
        "model.add(Conv2D(128, kernel_size=3, padding='same', activation='relu'))\n",
        "model.add(MaxPooling2D((2, 2)))\n",
        "model.add(BatchNormalization())\n",
        "model.add(Dropout(0.3))\n",
        "\n",
        "model.add(Conv2D(128, kernel_size=3, padding='same', activation='relu'))\n",
        "model.add(Conv2D(128, kernel_size=3, padding='same', activation='relu'))\n",
        "model.add(BatchNormalization())\n",
        "model.add(MaxPooling2D((2, 2)))\n",
        "model.add(Dropout(0.3))\n",
        "\n",
        "model.add(Flatten())\n",
        "\n",
        "model.add(Dense(100, activation='softmax'))\n",
        "\n",
        "model.compile(optimizer=adam(learning_rate=1e-3), loss='categorical_crossentropy', metrics=['accuracy'])"
      ],
      "execution_count": 13,
      "outputs": []
    },
    {
      "cell_type": "code",
      "metadata": {
        "id": "2ceAMkVOWxG-",
        "colab_type": "code",
        "colab": {}
      },
      "source": [
        "datagen = image.ImageDataGenerator(\n",
        "   rotation_range=30,\n",
        "   width_shift_range=0.1,\n",
        "   height_shift_range=0.1,\n",
        "   channel_shift_range=40,\n",
        "   shear_range=0.1,\n",
        "   zoom_range=0.1,\n",
        "   horizontal_flip=True,\n",
        "   fill_mode='nearest')"
      ],
      "execution_count": 14,
      "outputs": []
    },
    {
      "cell_type": "code",
      "metadata": {
        "id": "hkdUb_eWqDXt",
        "colab_type": "code",
        "colab": {
          "base_uri": "https://localhost:8080/",
          "height": 1000
        },
        "outputId": "5ba782aa-1def-4ba7-deb5-246eccda1bc2"
      },
      "source": [
        "model.summary()"
      ],
      "execution_count": 15,
      "outputs": [
        {
          "output_type": "stream",
          "text": [
            "Model: \"sequential_3\"\n",
            "_________________________________________________________________\n",
            "Layer (type)                 Output Shape              Param #   \n",
            "=================================================================\n",
            "conv2d_21 (Conv2D)           (None, 32, 32, 32)        896       \n",
            "_________________________________________________________________\n",
            "conv2d_22 (Conv2D)           (None, 32, 32, 32)        9248      \n",
            "_________________________________________________________________\n",
            "max_pooling2d_11 (MaxPooling (None, 16, 16, 32)        0         \n",
            "_________________________________________________________________\n",
            "batch_normalization_11 (Batc (None, 16, 16, 32)        128       \n",
            "_________________________________________________________________\n",
            "dropout_11 (Dropout)         (None, 16, 16, 32)        0         \n",
            "_________________________________________________________________\n",
            "conv2d_23 (Conv2D)           (None, 16, 16, 64)        18496     \n",
            "_________________________________________________________________\n",
            "conv2d_24 (Conv2D)           (None, 16, 16, 64)        36928     \n",
            "_________________________________________________________________\n",
            "max_pooling2d_12 (MaxPooling (None, 8, 8, 64)          0         \n",
            "_________________________________________________________________\n",
            "batch_normalization_12 (Batc (None, 8, 8, 64)          256       \n",
            "_________________________________________________________________\n",
            "dropout_12 (Dropout)         (None, 8, 8, 64)          0         \n",
            "_________________________________________________________________\n",
            "conv2d_25 (Conv2D)           (None, 8, 8, 128)         73856     \n",
            "_________________________________________________________________\n",
            "conv2d_26 (Conv2D)           (None, 8, 8, 128)         147584    \n",
            "_________________________________________________________________\n",
            "max_pooling2d_13 (MaxPooling (None, 4, 4, 128)         0         \n",
            "_________________________________________________________________\n",
            "batch_normalization_13 (Batc (None, 4, 4, 128)         512       \n",
            "_________________________________________________________________\n",
            "dropout_13 (Dropout)         (None, 4, 4, 128)         0         \n",
            "_________________________________________________________________\n",
            "conv2d_27 (Conv2D)           (None, 4, 4, 128)         147584    \n",
            "_________________________________________________________________\n",
            "conv2d_28 (Conv2D)           (None, 4, 4, 128)         147584    \n",
            "_________________________________________________________________\n",
            "max_pooling2d_14 (MaxPooling (None, 2, 2, 128)         0         \n",
            "_________________________________________________________________\n",
            "batch_normalization_14 (Batc (None, 2, 2, 128)         512       \n",
            "_________________________________________________________________\n",
            "dropout_14 (Dropout)         (None, 2, 2, 128)         0         \n",
            "_________________________________________________________________\n",
            "conv2d_29 (Conv2D)           (None, 2, 2, 128)         147584    \n",
            "_________________________________________________________________\n",
            "conv2d_30 (Conv2D)           (None, 2, 2, 128)         147584    \n",
            "_________________________________________________________________\n",
            "batch_normalization_15 (Batc (None, 2, 2, 128)         512       \n",
            "_________________________________________________________________\n",
            "max_pooling2d_15 (MaxPooling (None, 1, 1, 128)         0         \n",
            "_________________________________________________________________\n",
            "dropout_15 (Dropout)         (None, 1, 1, 128)         0         \n",
            "_________________________________________________________________\n",
            "flatten_3 (Flatten)          (None, 128)               0         \n",
            "_________________________________________________________________\n",
            "dense_3 (Dense)              (None, 100)               12900     \n",
            "=================================================================\n",
            "Total params: 892,164\n",
            "Trainable params: 891,204\n",
            "Non-trainable params: 960\n",
            "_________________________________________________________________\n"
          ],
          "name": "stdout"
        }
      ]
    },
    {
      "cell_type": "code",
      "metadata": {
        "id": "Jijmw9Eyf2wA",
        "colab_type": "code",
        "colab": {
          "base_uri": "https://localhost:8080/",
          "height": 1000
        },
        "outputId": "7bd45bdc-8212-47d6-c4cb-76c53d52b7ab"
      },
      "source": [
        "batch_size = 256\n",
        "steps = len(x_train) // batch_size\n",
        "epochs = 4\n",
        "iterations = 10\n",
        "\n",
        "for i in range(iterations):\n",
        "  print(\"\\nCycle:\",i,\"\\n\")\n",
        "  model.fit(x_train, y_train, validation_data=(x_test, y_test), batch_size=batch_size, verbose=1)\n",
        "  model.fit_generator(datagen.flow(x_train, y_train, batch_size=batch_size), steps_per_epoch=steps , validation_data=(x_test, y_test), epochs=epochs)"
      ],
      "execution_count": 16,
      "outputs": [
        {
          "output_type": "stream",
          "text": [
            "\n",
            "Cycle: 0 \n",
            "\n",
            "Train on 50000 samples, validate on 10000 samples\n",
            "Epoch 1/1\n",
            "50000/50000 [==============================] - 19s 388us/step - loss: 4.4750 - accuracy: 0.0515 - val_loss: 4.1383 - val_accuracy: 0.0692\n",
            "Epoch 1/4\n",
            "195/195 [==============================] - 49s 251ms/step - loss: 3.8857 - accuracy: 0.1082 - val_loss: 3.5458 - val_accuracy: 0.1701\n",
            "Epoch 2/4\n",
            "195/195 [==============================] - 48s 248ms/step - loss: 3.5737 - accuracy: 0.1533 - val_loss: 3.7630 - val_accuracy: 0.1259\n",
            "Epoch 3/4\n",
            "195/195 [==============================] - 49s 249ms/step - loss: 3.3393 - accuracy: 0.1894 - val_loss: 3.4285 - val_accuracy: 0.1916\n",
            "Epoch 4/4\n",
            "195/195 [==============================] - 48s 248ms/step - loss: 3.1531 - accuracy: 0.2230 - val_loss: 2.8515 - val_accuracy: 0.2834\n",
            "\n",
            "Cycle: 1 \n",
            "\n",
            "Train on 50000 samples, validate on 10000 samples\n",
            "Epoch 1/1\n",
            "50000/50000 [==============================] - 18s 352us/step - loss: 2.7962 - accuracy: 0.2869 - val_loss: 2.8498 - val_accuracy: 0.2980\n",
            "Epoch 1/4\n",
            "195/195 [==============================] - 50s 254ms/step - loss: 2.8912 - accuracy: 0.2700 - val_loss: 2.6744 - val_accuracy: 0.3219\n",
            "Epoch 2/4\n",
            "195/195 [==============================] - 50s 254ms/step - loss: 2.7734 - accuracy: 0.2972 - val_loss: 2.4818 - val_accuracy: 0.3576\n",
            "Epoch 3/4\n",
            "195/195 [==============================] - 49s 253ms/step - loss: 2.6934 - accuracy: 0.3121 - val_loss: 2.4961 - val_accuracy: 0.3547\n",
            "Epoch 4/4\n",
            "195/195 [==============================] - 50s 254ms/step - loss: 2.6024 - accuracy: 0.3293 - val_loss: 2.4126 - val_accuracy: 0.3749\n",
            "\n",
            "Cycle: 2 \n",
            "\n",
            "Train on 50000 samples, validate on 10000 samples\n",
            "Epoch 1/1\n",
            "50000/50000 [==============================] - 18s 353us/step - loss: 2.2565 - accuracy: 0.4010 - val_loss: 2.0832 - val_accuracy: 0.4414\n",
            "Epoch 1/4\n",
            "195/195 [==============================] - 49s 252ms/step - loss: 2.4954 - accuracy: 0.3531 - val_loss: 2.2111 - val_accuracy: 0.4134\n",
            "Epoch 2/4\n",
            "195/195 [==============================] - 49s 252ms/step - loss: 2.4362 - accuracy: 0.3672 - val_loss: 2.1189 - val_accuracy: 0.4329\n",
            "Epoch 3/4\n",
            "195/195 [==============================] - 49s 250ms/step - loss: 2.3716 - accuracy: 0.3794 - val_loss: 2.5929 - val_accuracy: 0.3627\n",
            "Epoch 4/4\n",
            "195/195 [==============================] - 49s 250ms/step - loss: 2.3356 - accuracy: 0.3871 - val_loss: 2.0985 - val_accuracy: 0.4450\n",
            "\n",
            "Cycle: 3 \n",
            "\n",
            "Train on 50000 samples, validate on 10000 samples\n",
            "Epoch 1/1\n",
            "50000/50000 [==============================] - 18s 350us/step - loss: 1.9766 - accuracy: 0.4649 - val_loss: 1.8952 - val_accuracy: 0.4867\n",
            "Epoch 1/4\n",
            "195/195 [==============================] - 49s 253ms/step - loss: 2.2819 - accuracy: 0.3978 - val_loss: 2.1927 - val_accuracy: 0.4332\n",
            "Epoch 2/4\n",
            "195/195 [==============================] - 50s 255ms/step - loss: 2.2248 - accuracy: 0.4117 - val_loss: 2.2769 - val_accuracy: 0.4221\n",
            "Epoch 3/4\n",
            "195/195 [==============================] - 49s 253ms/step - loss: 2.1960 - accuracy: 0.4190 - val_loss: 2.0496 - val_accuracy: 0.4579\n",
            "Epoch 4/4\n",
            "195/195 [==============================] - 49s 252ms/step - loss: 2.1602 - accuracy: 0.4255 - val_loss: 2.1347 - val_accuracy: 0.4459\n",
            "\n",
            "Cycle: 4 \n",
            "\n",
            "Train on 50000 samples, validate on 10000 samples\n",
            "Epoch 1/1\n",
            "50000/50000 [==============================] - 18s 351us/step - loss: 1.7879 - accuracy: 0.5071 - val_loss: 1.7311 - val_accuracy: 0.5227\n",
            "Epoch 1/4\n",
            "195/195 [==============================] - 50s 254ms/step - loss: 2.1207 - accuracy: 0.4323 - val_loss: 2.0755 - val_accuracy: 0.4623\n",
            "Epoch 2/4\n",
            "195/195 [==============================] - 49s 253ms/step - loss: 2.0882 - accuracy: 0.4423 - val_loss: 2.0165 - val_accuracy: 0.4773\n",
            "Epoch 3/4\n",
            "195/195 [==============================] - 49s 252ms/step - loss: 2.0646 - accuracy: 0.4467 - val_loss: 1.9083 - val_accuracy: 0.4983\n",
            "Epoch 4/4\n",
            "195/195 [==============================] - 50s 254ms/step - loss: 2.0411 - accuracy: 0.4510 - val_loss: 1.9903 - val_accuracy: 0.4829\n",
            "\n",
            "Cycle: 5 \n",
            "\n",
            "Train on 50000 samples, validate on 10000 samples\n",
            "Epoch 1/1\n",
            "50000/50000 [==============================] - 18s 350us/step - loss: 1.6626 - accuracy: 0.5358 - val_loss: 1.6602 - val_accuracy: 0.5465\n",
            "Epoch 1/4\n",
            "195/195 [==============================] - 50s 255ms/step - loss: 2.0223 - accuracy: 0.4580 - val_loss: 1.7754 - val_accuracy: 0.5200\n",
            "Epoch 2/4\n",
            "195/195 [==============================] - 50s 255ms/step - loss: 1.9858 - accuracy: 0.4650 - val_loss: 1.7831 - val_accuracy: 0.5132\n",
            "Epoch 3/4\n",
            "195/195 [==============================] - 50s 257ms/step - loss: 1.9587 - accuracy: 0.4712 - val_loss: 1.8774 - val_accuracy: 0.5026\n",
            "Epoch 4/4\n",
            "195/195 [==============================] - 49s 252ms/step - loss: 1.9318 - accuracy: 0.4779 - val_loss: 1.8547 - val_accuracy: 0.5068\n",
            "\n",
            "Cycle: 6 \n",
            "\n",
            "Train on 50000 samples, validate on 10000 samples\n",
            "Epoch 1/1\n",
            "50000/50000 [==============================] - 17s 350us/step - loss: 1.5655 - accuracy: 0.5613 - val_loss: 1.6131 - val_accuracy: 0.5609\n",
            "Epoch 1/4\n",
            "195/195 [==============================] - 49s 250ms/step - loss: 1.9300 - accuracy: 0.4781 - val_loss: 1.7024 - val_accuracy: 0.5407\n",
            "Epoch 2/4\n",
            "195/195 [==============================] - 49s 249ms/step - loss: 1.8939 - accuracy: 0.4855 - val_loss: 1.8384 - val_accuracy: 0.5148\n",
            "Epoch 3/4\n",
            "195/195 [==============================] - 48s 245ms/step - loss: 1.8896 - accuracy: 0.4862 - val_loss: 1.7410 - val_accuracy: 0.5326\n",
            "Epoch 4/4\n",
            "195/195 [==============================] - 47s 243ms/step - loss: 1.8745 - accuracy: 0.4912 - val_loss: 1.6871 - val_accuracy: 0.5388\n",
            "\n",
            "Cycle: 7 \n",
            "\n",
            "Train on 50000 samples, validate on 10000 samples\n",
            "Epoch 1/1\n",
            "50000/50000 [==============================] - 17s 349us/step - loss: 1.4731 - accuracy: 0.5835 - val_loss: 1.5875 - val_accuracy: 0.5636\n",
            "Epoch 1/4\n",
            "195/195 [==============================] - 48s 245ms/step - loss: 1.8554 - accuracy: 0.4988 - val_loss: 1.8486 - val_accuracy: 0.5090\n",
            "Epoch 2/4\n",
            "195/195 [==============================] - 47s 241ms/step - loss: 1.8289 - accuracy: 0.5026 - val_loss: 1.6438 - val_accuracy: 0.5535\n",
            "Epoch 3/4\n",
            "195/195 [==============================] - 47s 240ms/step - loss: 1.8125 - accuracy: 0.5056 - val_loss: 1.9928 - val_accuracy: 0.4913\n",
            "Epoch 4/4\n",
            "195/195 [==============================] - 47s 241ms/step - loss: 1.7948 - accuracy: 0.5089 - val_loss: 2.0137 - val_accuracy: 0.4928\n",
            "\n",
            "Cycle: 8 \n",
            "\n",
            "Train on 50000 samples, validate on 10000 samples\n",
            "Epoch 1/1\n",
            "50000/50000 [==============================] - 17s 348us/step - loss: 1.4139 - accuracy: 0.5982 - val_loss: 1.5041 - val_accuracy: 0.5827\n",
            "Epoch 1/4\n",
            "195/195 [==============================] - 47s 241ms/step - loss: 1.8020 - accuracy: 0.5087 - val_loss: 1.6217 - val_accuracy: 0.5587\n",
            "Epoch 2/4\n",
            "195/195 [==============================] - 46s 238ms/step - loss: 1.7679 - accuracy: 0.5143 - val_loss: 1.7148 - val_accuracy: 0.5424\n",
            "Epoch 3/4\n",
            "195/195 [==============================] - 47s 239ms/step - loss: 1.7590 - accuracy: 0.5200 - val_loss: 1.6872 - val_accuracy: 0.5443\n",
            "Epoch 4/4\n",
            "195/195 [==============================] - 46s 237ms/step - loss: 1.7481 - accuracy: 0.5209 - val_loss: 1.7498 - val_accuracy: 0.5389\n",
            "\n",
            "Cycle: 9 \n",
            "\n",
            "Train on 50000 samples, validate on 10000 samples\n",
            "Epoch 1/1\n",
            "50000/50000 [==============================] - 17s 349us/step - loss: 1.3558 - accuracy: 0.6128 - val_loss: 1.4953 - val_accuracy: 0.5864\n",
            "Epoch 1/4\n",
            "195/195 [==============================] - 47s 243ms/step - loss: 1.7431 - accuracy: 0.5239 - val_loss: 1.7213 - val_accuracy: 0.5431\n",
            "Epoch 2/4\n",
            "195/195 [==============================] - 47s 242ms/step - loss: 1.7180 - accuracy: 0.5268 - val_loss: 1.9684 - val_accuracy: 0.5018\n",
            "Epoch 3/4\n",
            "195/195 [==============================] - 47s 240ms/step - loss: 1.7001 - accuracy: 0.5318 - val_loss: 1.6547 - val_accuracy: 0.5546\n",
            "Epoch 4/4\n",
            "195/195 [==============================] - 46s 238ms/step - loss: 1.6901 - accuracy: 0.5336 - val_loss: 1.6175 - val_accuracy: 0.5643\n"
          ],
          "name": "stdout"
        }
      ]
    },
    {
      "cell_type": "code",
      "metadata": {
        "id": "APyMXFzqpRdp",
        "colab_type": "code",
        "colab": {}
      },
      "source": [
        " "
      ],
      "execution_count": null,
      "outputs": []
    }
  ]
}